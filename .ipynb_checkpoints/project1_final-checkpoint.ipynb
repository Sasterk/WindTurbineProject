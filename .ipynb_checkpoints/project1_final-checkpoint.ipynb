{
 "cells": [
  {
   "cell_type": "code",
   "execution_count": null,
   "id": "dd76b43d",
   "metadata": {},
   "outputs": [],
   "source": [
    "import matplotlib.pyplot as plt\n",
    "import pandas as pd\n",
    "import scipy.stats as st\n",
    "import requestsimport matplotlib.pyplot as plt\n",
    "import numpy as np\n",
    "from scipy.stats import linregress\n",
    "import json\n",
    "from pathlib import Path\n",
    "from pprint import pprint\n",
    "import hvplot.pandas\n",
    "import requests\n",
    "import warnings\n",
    "warnings.filterwarnings(\"ignore\")"
   ]
  },
  {
   "cell_type": "code",
   "execution_count": null,
   "id": "5d121787",
   "metadata": {},
   "outputs": [],
   "source": [
    "wind_turbine = \"turbinedata.csv\"\n",
    "\n",
    "# Read the turbine data\n",
    "wind = pd.read_csv(wind_turbine)\n",
    "\n",
    "# Display the data table for preview\n",
    "wind.head(5)"
   ]
  },
  {
   "cell_type": "code",
   "execution_count": null,
   "id": "fcb9dc6a",
   "metadata": {},
   "outputs": [],
   "source": [
    "wind_turbine_clean_df = wind[['case_id', 't_state', 'p_name', 'p_year', 'p_tnum', 't_manu', 't_model', 't_cap', \n",
    "                                        't_hh', 't_rd', 't_ttlh', 't_conf_atr', 't_conf_loc', 'xlong', 'ylat']]\n",
    "wind_turbine_clean_df = wind_turbine_clean_df.rename(columns={'case_id':'Turbine ID', 't_state':'State','p_name':'Project Name',\n",
    "                                                             'p_tnum':'Turbines in Project','t_manu':'Manufacturer',\n",
    "                                                              't_model':'Model Number','t_cap':'Capacity',\n",
    "                                                              'p_year':'Year','t_hh':'Height','t_rd':'Rotor Diameter',\n",
    "                                                              't_ttlh':'Total Height','xlong':'Longitude','ylat':'Latitude'\n",
    "                                                              })\n",
    "wind_turbine_clean_df"
   ]
  },
  {
   "cell_type": "code",
   "execution_count": null,
   "id": "f2256ea0",
   "metadata": {},
   "outputs": [],
   "source": [
    "# Checking the number of turbines.\n",
    "turbine_count = len(pd.unique(wind['case_id']))\n",
    "turbine_count"
   ]
  },
  {
   "cell_type": "code",
   "execution_count": null,
   "id": "591e0bb0",
   "metadata": {},
   "outputs": [],
   "source": [
    "# Checking the number of manufactures.\n",
    "manu_count = len(pd.unique(wind['t_manu']))\n",
    "manu_count"
   ]
  },
  {
   "cell_type": "code",
   "execution_count": null,
   "id": "6bd90b66",
   "metadata": {},
   "outputs": [],
   "source": [
    "# Chekcing the number of models\n",
    "model_count = len(pd.unique(wind['t_model']))\n",
    "model_count"
   ]
  },
  {
   "cell_type": "code",
   "execution_count": null,
   "id": "dfe59a3c",
   "metadata": {},
   "outputs": [],
   "source": [
    "new_wind = wind[['case_id','p_name','t_state','p_year','t_cap','t_manu','t_model','t_hh','xlong','ylat']]\n",
    "new_wind\n",
    "\n",
    "sp_turbine = new_wind.loc[new_wind[\"case_id\"] == 3053439]\n",
    "  \n",
    "sp_turbine"
   ]
  },
  {
   "cell_type": "code",
   "execution_count": null,
   "id": "37a1f6eb",
   "metadata": {},
   "outputs": [],
   "source": [
    "turbine_manu = wind[\"t_manu\"].value_counts().head(15)\n",
    "turbine_manu\n",
    "\n",
    "turbine_manu.plot(kind=\"bar\")\n",
    "\n",
    "plt.title ('Top 15 Manufactures')\n",
    "plt.xlabel('Manufacture')\n",
    "plt.ylabel('# of Models')\n",
    "\n",
    "plt.show()"
   ]
  },
  {
   "cell_type": "code",
   "execution_count": null,
   "id": "e5fd8141",
   "metadata": {},
   "outputs": [],
   "source": [
    "turbine_model = wind[\"t_model\"].value_counts().head(20)\n",
    "turbine_model\n",
    "\n",
    "turbine_model.plot(kind=\"bar\")\n",
    "\n",
    "plt.title ('Total Models')\n",
    "plt.xlabel('Models')\n",
    "plt.ylabel('# of Models')\n",
    "\n",
    "plt.show()"
   ]
  },
  {
   "cell_type": "code",
   "execution_count": null,
   "id": "1729326b",
   "metadata": {},
   "outputs": [],
   "source": [
    "turbine_cap = wind_turbine_clean_df.groupby(['Capacity'])\n",
    "count_turbine = turbine_cap['Capacity'].count()\n",
    "count_turbine\n",
    "\n",
    "count_chart = count_turbine.plot(kind='bar', figsize=(20,20))\n",
    "\n",
    "count_chart.set_xlabel(\"Capacity\")\n",
    "count_chart.set_ylabel(\"Number of Turbines\")\n",
    "\n",
    "plt.show()\n",
    "plt.tight_layout()"
   ]
  },
  {
   "cell_type": "code",
   "execution_count": null,
   "id": "eff6224f",
   "metadata": {},
   "outputs": [],
   "source": [
    "manu_pie = wind_turbine_clean_df['Manufacturer'].value_counts()\n",
    "print(manu_pie)\n",
    "\n",
    "labels = [\"GE Wind\", \"Vestas\", \"Siemens\",\"Gamesa\", \"Mitsubishi\"]\n",
    "\n",
    "sizes = [32300,17161,5166,3037,2373]\n",
    "\n",
    "colors = [\"red\", \"green\",\"blue\",\"orange\"]\n",
    "\n",
    "explode = (0.1, 0, 0, 0)\n",
    "\n",
    "plt.pie(sizes, labels=labels, colors=colors,\n",
    "        autopct=\"%0.2f%%\", shadow=True)\n",
    "\n",
    "plt.show()"
   ]
  },
  {
   "cell_type": "code",
   "execution_count": null,
   "id": "49657701",
   "metadata": {},
   "outputs": [],
   "source": [
    "def autopct(pct): \n",
    "    return ('%.2f' % pct) if pct > 2 else ''\n",
    "\n",
    "\n",
    "manu_data = wind_turbine_clean_df[\"Manufacturer\"].value_counts()\n",
    "manu_data.plot.pie(autopct= autopct)\n",
    "\n",
    "plt.title(\"Manufacturers\")\n",
    "plt.show()"
   ]
  },
  {
   "cell_type": "code",
   "execution_count": null,
   "id": "9ff9e647",
   "metadata": {},
   "outputs": [],
   "source": [
    "plt.style.use('ggplot')\n",
    "dic = {'GE Wind': 46.63,\n",
    "       'Vestas': 24.77,\n",
    "       'Siemens': 7.46,\n",
    "       'Gamesa': 4.38,\n",
    "       'Mitsubishi': 3.43,\n",
    "       'Siemens Gamesa Renewable': 2.950598782,\n",
    "       'Nordex': 2.505121613,\n",
    "       'Suzlon': 1.809407268,\n",
    "       'Acciona': 1.042196587,\n",
    "       'REpower': 1.09,\n",
    "       'NEG Micon': 0.610468713,\n",
    "       'Enron': 0.544472096 ,\n",
    "       'Bonus': 0.419353508,\n",
    "       'Clipper': 0.38360534 ,\n",
    "       'Nordtank': 0.318983652,\n",
    "       'Micon': 0.290110132,\n",
    "       'Goldwind': 0.268111259,\n",
    "       'Northern Power Systems': 0.134743094}\n",
    "# group together all elements in the dictionary whose value is less than 1\n",
    "# name this group 'All the rest'\n",
    "import itertools\n",
    "newdic={}\n",
    "for key, group in itertools.groupby(dic, lambda k: 'Other' if (dic[k]<2) else k):\n",
    "     newdic[key] = sum([dic[k] for k in list(group)])\n",
    "labels = newdic.keys()\n",
    "sizes = newdic.values()\n",
    "fig, ax = plt.subplots()\n",
    "ax.pie(sizes, labels=labels, autopct='%1.1f%%', startangle=0)\n",
    "ax.axis('equal')\n",
    "plt.tight_layout()\n",
    "plt.show()"
   ]
  },
  {
   "cell_type": "code",
   "execution_count": null,
   "id": "11a2fbf3",
   "metadata": {},
   "outputs": [],
   "source": [
    "# Remove any null values in the Capacity column\n",
    "wind_capacity_cleaned_df = wind_turbine_clean_df.dropna()\n",
    "wind_capacity_cleaned_df"
   ]
  },
  {
   "cell_type": "code",
   "execution_count": null,
   "id": "79b38790",
   "metadata": {},
   "outputs": [],
   "source": [
    "# Find turbines by state and plot the results\n",
    "state_values = wind_capacity_cleaned_df.groupby(['State']).size()\n",
    "state_values\n",
    "\n",
    "state_values.plot(kind= 'bar', xlabel = 'State', ylabel ='Turbines', title = 'Turbines by State',  figsize=(10,4))"
   ]
  },
  {
   "cell_type": "code",
   "execution_count": null,
   "id": "82e0aaf9",
   "metadata": {},
   "outputs": [],
   "source": [
    "eighties_turbines = wind_capacity_cleaned_df.loc[((wind_turbine_clean_df['Year'] >= 1980) &\n",
    "                                                  (wind_turbine_clean_df['Year'] <= 1989))]                                                \n",
    "nineties_turbines = wind_capacity_cleaned_df.loc[((wind_turbine_clean_df['Year'] >= 1990) &\n",
    "                                                  (wind_turbine_clean_df['Year'] < 2000))] \n",
    "two_thousand_turbines = wind_capacity_cleaned_df.loc[((wind_turbine_clean_df['Year'] >= 2000) &\n",
    "                                                  (wind_turbine_clean_df['Year'] < 2010))]\n",
    "two_thousand_ten_turbines = wind_capacity_cleaned_df.loc[((wind_turbine_clean_df['Year'] >= 2010) &\n",
    "                                                  (wind_turbine_clean_df['Year'] < 2020))]\n",
    "two_thousand_twenty_turbines = wind_capacity_cleaned_df.loc[((wind_turbine_clean_df['Year'] >= 2021) &\n",
    "                                                  (wind_turbine_clean_df['Year'] < 2024))]"
   ]
  },
  {
   "cell_type": "code",
   "execution_count": null,
   "id": "6e22df8f",
   "metadata": {},
   "outputs": [],
   "source": [
    "# Get the average capacity for each decade\n",
    "eighties_capacity_avg = eighties_turbines['Capacity'].mean()\n",
    "nineties_capacity_avg = nineties_turbines['Capacity'].mean()\n",
    "two_thousand_capacity_avg = two_thousand_turbines['Capacity'].mean()\n",
    "two_thousand_ten_capacity_avg = two_thousand_ten_turbines['Capacity'].mean()\n",
    "two_thousand_twenty_capacity_avg = two_thousand_twenty_turbines['Capacity'].mean() "
   ]
  },
  {
   "cell_type": "code",
   "execution_count": null,
   "id": "76fa6c79",
   "metadata": {},
   "outputs": [],
   "source": [
    "eighties_turbines['Capacity'].plot.hist(title = '1980s Turbines', color = 'green' )\n",
    "avg_text = 'Avg Capacity= ' + str(round(eighties_capacity_avg,2)) + \" kW\"\n",
    "plt.annotate(avg_text,(450, 600),fontsize=10,color=\"black\")"
   ]
  },
  {
   "cell_type": "code",
   "execution_count": null,
   "id": "b3486378",
   "metadata": {},
   "outputs": [],
   "source": [
    "nineties_turbines['Capacity'].plot.hist(title = '1990s Turbines', color = 'purple')\n",
    "avg_text = 'Avg Capacity= ' + str(round(nineties_capacity_avg,2)) + \" kW\"\n",
    "plt.annotate(avg_text,(1000,600),fontsize=10,color=\"black\")"
   ]
  },
  {
   "cell_type": "code",
   "execution_count": null,
   "id": "74de085f",
   "metadata": {},
   "outputs": [],
   "source": [
    "two_thousand_turbines['Capacity'].plot.hist(title = '2000s Turbines', color = 'blue')\n",
    "avg_text = 'Avg Capacity= ' + str(round(two_thousand_capacity_avg,2)) + \" kW\"\n",
    "plt.annotate(avg_text,(1570,6000),fontsize=10,color=\"black\")"
   ]
  },
  {
   "cell_type": "code",
   "execution_count": null,
   "id": "5cd9f443",
   "metadata": {},
   "outputs": [],
   "source": [
    "two_thousand_ten_turbines['Capacity'].plot.hist(title = '2010s Turbines', color = 'red')\n",
    "avg_text = 'Avg Capacity= ' + str(round(two_thousand_ten_capacity_avg,2)) + \" kW\"\n",
    "plt.annotate(avg_text,(2800,12500),fontsize=10,color=\"black\")"
   ]
  },
  {
   "cell_type": "code",
   "execution_count": null,
   "id": "8e033a14",
   "metadata": {},
   "outputs": [],
   "source": [
    "two_thousand_twenty_turbines['Capacity'].plot.hist(title = '2020s Turbines', color = 'yellow')\n",
    "avg_text = 'Avg Capacity= ' + str(round(two_thousand_twenty_capacity_avg,2)) + \" kW\"\n",
    "plt.annotate(avg_text,(3500,3000),fontsize=10,color=\"black\")"
   ]
  },
  {
   "cell_type": "code",
   "execution_count": null,
   "id": "d27cc1f5",
   "metadata": {},
   "outputs": [],
   "source": [
    "two_thousand_ten_turbines['Capacity'].plot.hist(color = 'red')\n",
    "two_thousand_turbines['Capacity'].plot.hist(color = 'blue')\n",
    "eighties_turbines['Capacity'].plot.hist(color = 'green' )\n",
    "nineties_turbines['Capacity'].plot.hist(color = 'purple')\n",
    "two_thousand_twenty_turbines['Capacity'].plot.hist(color = 'yellow')\n",
    "plt.title('Turbines 1980 to Present')\n",
    "plt.show()"
   ]
  },
  {
   "cell_type": "code",
   "execution_count": null,
   "id": "50443c23",
   "metadata": {},
   "outputs": [],
   "source": [
    "# Build scatter plot for rotor diameter vs. capacity\n",
    "capacity = wind_capacity_cleaned_df['Capacity']\n",
    "rotor_diameter = wind_capacity_cleaned_df['Rotor Diameter']\n",
    "plt.scatter(rotor_diameter, capacity, edgecolors='black', c='blue')\n",
    "\n",
    "# Plot the linear regression\n",
    "(slope, intercept, rvalue, pvalue, stderr) = linregress(rotor_diameter, capacity)\n",
    "regress_values = rotor_diameter * slope + intercept\n",
    "line_eq = \"y = \" + str(round(slope,2)) + \"x + \" + str(round(intercept,2))\n",
    "plt.annotate(line_eq,(25,4500),fontsize=15,color=\"black\")\n",
    "plt.plot(rotor_diameter,regress_values,\"r-\")\n",
    "print(f\"The r-value is: {rvalue}\")\n",
    "\n",
    "# Incorporate the other graph properties\n",
    "plt.xlabel('Rotor Diameter')\n",
    "plt.ylabel('Turbine Capacity')\n",
    "plt.title('Rotor Diameter vs. Turbine Capacity')\n",
    "plt.grid()\n",
    "\n",
    "# Show plot\n",
    "plt.show()"
   ]
  },
  {
   "cell_type": "code",
   "execution_count": null,
   "id": "3b1345a1",
   "metadata": {},
   "outputs": [],
   "source": [
    "# Build scatter plot for rotor height vs. capacity\n",
    "capacity = wind_capacity_cleaned_df['Capacity']\n",
    "rotor_diameter = wind_capacity_cleaned_df['Height']\n",
    "plt.scatter(rotor_diameter, capacity, edgecolors='black', c='blue')\n",
    "\n",
    "# Plot the linear regression\n",
    "(slope, intercept, rvalue, pvalue, stderr) = linregress(rotor_diameter, capacity)\n",
    "regress_values = rotor_diameter * slope + intercept\n",
    "line_eq = \"y = \" + str(round(slope,2)) + \"x + \" + str(round(intercept,2))\n",
    "plt.annotate(line_eq,(25,4500),fontsize=15,color=\"black\")\n",
    "plt.plot(rotor_diameter,regress_values,\"r-\")\n",
    "print(f\"The r-value is: {rvalue}\")\n",
    "\n",
    "# Incorporate the other graph properties\n",
    "plt.xlabel('Height')\n",
    "plt.ylabel('Turbine Capacity')\n",
    "plt.title('Height vs. Turbine Capacity')\n",
    "plt.grid()\n",
    "\n",
    "# Show plot\n",
    "plt.show()"
   ]
  },
  {
   "cell_type": "code",
   "execution_count": null,
   "id": "906816c6",
   "metadata": {},
   "outputs": [],
   "source": [
    "x_axis = wind_all_cleaned_df['Year']\n",
    "y_axis = wind_all_cleaned_df['Rotor Diameter']\n",
    "\n",
    "plt.scatter(x_axis, y_axis)\n",
    "plt.xlabel(\"Year\")  # add X-axis label\n",
    "plt.ylabel(\"Rotor Diameter (m)\")  # add Y-axis label\n",
    "(slope, intercept, rvalue, pvalue, stderr) = linregress(x_axis, y_axis)\n",
    "regress_values = x_axis * slope + intercept\n",
    "line_eq = \"y =\" + str(round(slope,2)) + \"x +\" + str(round(intercept, 2))\n",
    "plt.plot(x_axis,regress_values,\"r-\")\n",
    "plt.title(\"Rotor Diameter vs. Year\") \n",
    "plt.show()\n",
    "\n",
    "print(f\"The trend from wind turbines across the United States indicates that average rotor diameter is increasing by {slope} meters each year.\")\n"
   ]
  },
  {
   "cell_type": "code",
   "execution_count": null,
   "id": "1ce270e1",
   "metadata": {},
   "outputs": [],
   "source": [
    "gewind_turbines = wind_capacity_cleaned_df.loc[wind_capacity_cleaned_df['Manufacturer'] == 'GE Wind', \"Capacity\"] \n",
    "print(f\"GE Wind Average Capacity: {gewind_turbines.mean()}\")\n",
    "\n",
    "\n",
    "vestas_turbines = wind_capacity_cleaned_df.loc[wind_capacity_cleaned_df['Manufacturer'] == 'Vestas', \"Capacity\"] \n",
    "print(f\"Vestas Average Capacity: {vestas_turbines.mean()}\")\n",
    "\n",
    "siemens_turbines = wind_capacity_cleaned_df.loc[wind_capacity_cleaned_df['Manufacturer'] == 'Siemens', \"Capacity\"] \n",
    "print(f\"Siemens Average Capacity: {siemens_turbines.mean()}\")\n",
    "\n",
    "gamesa_turbines = wind_capacity_cleaned_df.loc[wind_capacity_cleaned_df['Manufacturer'] == 'Gamesa', \"Capacity\"] \n",
    "print(f\"Gamesa Average Capacity: {gamesa_turbines.mean()}\")\n",
    "\n",
    "mitsubishi_turbines = wind_capacity_cleaned_df.loc[wind_capacity_cleaned_df['Manufacturer'] == 'Mitsubishi', \"Capacity\"] \n",
    "print(f\"Mitsubishi Average Capacity: {mitsubishi_turbines.mean()}\")"
   ]
  },
  {
   "cell_type": "code",
   "execution_count": null,
   "id": "391ac6fc",
   "metadata": {},
   "outputs": [],
   "source": [
    "average_capacity = [1989, 2160, 2340, 1855, 1326]\n",
    "lifespan = [2, 8, 70, 1.5, 25]\n",
    "index = ['GE Wind', 'Vestas', 'Siemens',\n",
    "         'Gamesa', 'Mitsubishi']\n",
    "\n",
    "df = pd.DataFrame({'average capacity': average_capacity,\n",
    "\n",
    "                   'lifespan': lifespan}, index=index)\n",
    "\n",
    "ax = df.plot.bar(rot=0)"
   ]
  },
  {
   "cell_type": "code",
   "execution_count": null,
   "id": "48f16336",
   "metadata": {},
   "outputs": [],
   "source": [
    "base_url = \"https://eersc.usgs.gov/api/uswtdb/v1/turbines?&t_state=eq.AZ\"\n",
    "response = requests.get(base_url)\n",
    "data = response.json()\n",
    "\n",
    "# Print to see data returned\n",
    "# print(data)  \n",
    "\n",
    "latitudes = []\n",
    "longitudes = []\n",
    "\n",
    "# Loop to extract latitudes and longitudes\n",
    "for item in data:\n",
    "    ylat = item['ylat']\n",
    "    xlong = item['xlong']\n",
    "    latitudes.append(ylat)\n",
    "    longitudes.append(xlong)\n",
    "\n",
    "# DataFrame with latitude and longitude information\n",
    "az_wind_location_df = pd.DataFrame({'Latitude': latitudes, 'Longitude': longitudes})"
   ]
  },
  {
   "cell_type": "code",
   "execution_count": null,
   "id": "8562487f",
   "metadata": {},
   "outputs": [],
   "source": [
    "az_wind_location_df"
   ]
  },
  {
   "cell_type": "code",
   "execution_count": null,
   "id": "e9dad02d",
   "metadata": {},
   "outputs": [],
   "source": [
    "# Configure the map plot_2\n",
    "map_plot_az = az_wind_location_df.hvplot.points(\n",
    "    \"Longitude\",\n",
    "    \"Latitude\",\n",
    "    geo = True,\n",
    "    tiles = \"OSM\",\n",
    "    frame_width = 700,\n",
    "    frame_height = 500,\n",
    "    scale = 0.01,\n",
    "    color = \"red\",  \n",
    ")\n",
    "\n",
    "# Display the map plot\n",
    "map_plot_az"
   ]
  },
  {
   "cell_type": "code",
   "execution_count": null,
   "id": "08e57835",
   "metadata": {},
   "outputs": [],
   "source": [
    "base_url = \"https://eersc.usgs.gov/api/uswtdb/v1/turbines?&t_state=eq.CA\"\n",
    "response = requests.get(base_url)\n",
    "data = response.json()\n",
    "\n",
    "# Print to see data returned\n",
    "# print(data)  \n",
    "\n",
    "latitudes = []\n",
    "longitudes = []\n",
    "\n",
    "# Loop to extract latitudes and longitudes\n",
    "for item in data:\n",
    "    ylat = item['ylat']\n",
    "    xlong = item['xlong']\n",
    "    latitudes.append(ylat)\n",
    "    longitudes.append(xlong)\n",
    "\n",
    "# DataFrame with latitude and longitude information\n",
    "ca_wind_location_df = pd.DataFrame({'Latitude': latitudes, 'Longitude': longitudes})"
   ]
  },
  {
   "cell_type": "code",
   "execution_count": null,
   "id": "1b64064b",
   "metadata": {},
   "outputs": [],
   "source": [
    "ca_wind_location_df"
   ]
  },
  {
   "cell_type": "code",
   "execution_count": null,
   "id": "0814a7e1",
   "metadata": {},
   "outputs": [],
   "source": [
    "map_plot_ca = ca_wind_location_df.hvplot.points(\n",
    "    \"Longitude\",\n",
    "    \"Latitude\",\n",
    "    geo = True,\n",
    "    tiles = \"OSM\",\n",
    "    frame_width = 700,\n",
    "    frame_height = 500,\n",
    "    scale = 0.01,\n",
    "    color = \"red\",  \n",
    ")\n",
    "\n",
    "# Display the map plot\n",
    "map_plot_ca"
   ]
  },
  {
   "cell_type": "code",
   "execution_count": null,
   "id": "6ba1fb3d",
   "metadata": {},
   "outputs": [],
   "source": [
    "base_url = \"https://eersc.usgs.gov/api/uswtdb/v1/turbines?&t_state=eq.TX\"\n",
    "response = requests.get(base_url)\n",
    "data = response.json()\n",
    "\n",
    "# Print to see data returned\n",
    "# print(data)  \n",
    "\n",
    "latitudes = []\n",
    "longitudes = []\n",
    "\n",
    "# Loop to extract latitudes and longitudes\n",
    "for item in data:\n",
    "    ylat = item['ylat']\n",
    "    xlong = item['xlong']\n",
    "    latitudes.append(ylat)\n",
    "    longitudes.append(xlong)\n",
    "\n",
    "# DataFrame with latitude and longitude information\n",
    "tx_wind_location_df = pd.DataFrame({'Latitude': latitudes, 'Longitude': longitudes})"
   ]
  },
  {
   "cell_type": "code",
   "execution_count": null,
   "id": "1b2cd077",
   "metadata": {},
   "outputs": [],
   "source": [
    "tx_wind_location_df"
   ]
  },
  {
   "cell_type": "code",
   "execution_count": null,
   "id": "db105ca5",
   "metadata": {},
   "outputs": [],
   "source": [
    "map_plot_tx = tx_wind_location_df.hvplot.points(\n",
    "    \"Longitude\",\n",
    "    \"Latitude\",\n",
    "    geo = True,\n",
    "    tiles = \"OSM\",\n",
    "    frame_width = 700,\n",
    "    frame_height = 500,\n",
    "    scale = 0.01,\n",
    "    color = \"red\",  \n",
    ")\n",
    "\n",
    "# Display the map plot\n",
    "map_plot_tx"
   ]
  },
  {
   "cell_type": "code",
   "execution_count": null,
   "id": "768b7c15",
   "metadata": {},
   "outputs": [],
   "source": [
    "base_url = \"https://eersc.usgs.gov/api/uswtdb/v1/turbines?&t_state=eq.OK\"\n",
    "response = requests.get(base_url)\n",
    "data = response.json()\n",
    "\n",
    "# Print to see data returned\n",
    "# print(data)  \n",
    "\n",
    "latitudes = []\n",
    "longitudes = []\n",
    "\n",
    "# Loop to extract latitudes and longitudes\n",
    "for item in data:\n",
    "    ylat = item['ylat']\n",
    "    xlong = item['xlong']\n",
    "    latitudes.append(ylat)\n",
    "    longitudes.append(xlong)\n",
    "\n",
    "# DataFrame with latitude and longitude information\n",
    "ok_wind_location_df = pd.DataFrame({'Latitude': latitudes, 'Longitude': longitudes})"
   ]
  },
  {
   "cell_type": "code",
   "execution_count": null,
   "id": "6da40f99",
   "metadata": {},
   "outputs": [],
   "source": [
    "ok_wind_location_df"
   ]
  },
  {
   "cell_type": "code",
   "execution_count": null,
   "id": "bf3d7917",
   "metadata": {},
   "outputs": [],
   "source": [
    "map_plot_ok = ok_wind_location_df.hvplot.points(\n",
    "    \"Longitude\",\n",
    "    \"Latitude\",\n",
    "    geo = True,\n",
    "    tiles = \"OSM\",\n",
    "    frame_width = 700,\n",
    "    frame_height = 500,\n",
    "    scale = 0.01,\n",
    "    color = \"red\",  \n",
    ")\n",
    "\n",
    "# Display the map plot\n",
    "map_plot_ok"
   ]
  },
  {
   "cell_type": "code",
   "execution_count": null,
   "id": "ca8bc4e5",
   "metadata": {},
   "outputs": [],
   "source": [
    "base_url = \"https://eersc.usgs.gov/api/uswtdb/v1/turbines?&t_state=eq.IA\"\n",
    "response = requests.get(base_url)\n",
    "data = response.json()\n",
    "\n",
    "# Print to see data returned\n",
    "# print(data)  \n",
    "\n",
    "latitudes = []\n",
    "longitudes = []\n",
    "\n",
    "# Loop to extract latitudes and longitudes\n",
    "for item in data:\n",
    "    ylat = item['ylat']\n",
    "    xlong = item['xlong']\n",
    "    latitudes.append(ylat)\n",
    "    longitudes.append(xlong)\n",
    "\n",
    "# DataFrame with latitude and longitude information\n",
    "ia_wind_location_df = pd.DataFrame({'Latitude': latitudes, 'Longitude': longitudes})"
   ]
  },
  {
   "cell_type": "code",
   "execution_count": null,
   "id": "acc816ee",
   "metadata": {},
   "outputs": [],
   "source": [
    "ia_wind_location_df"
   ]
  },
  {
   "cell_type": "code",
   "execution_count": null,
   "id": "578ca396",
   "metadata": {},
   "outputs": [],
   "source": [
    "map_plot_ia = ia_wind_location_df.hvplot.points(\n",
    "    \"Longitude\",\n",
    "    \"Latitude\",\n",
    "    geo = True,\n",
    "    tiles = \"OSM\",\n",
    "    frame_width = 700,\n",
    "    frame_height = 500,\n",
    "    scale = 0.01,\n",
    "    color = \"red\",  \n",
    ")\n",
    "\n",
    "# Display the map plot\n",
    "map_plot_ia"
   ]
  }
 ],
 "metadata": {
  "kernelspec": {
   "display_name": "Python 3 (ipykernel)",
   "language": "python",
   "name": "python3"
  },
  "language_info": {
   "codemirror_mode": {
    "name": "ipython",
    "version": 3
   },
   "file_extension": ".py",
   "mimetype": "text/x-python",
   "name": "python",
   "nbconvert_exporter": "python",
   "pygments_lexer": "ipython3",
   "version": "3.10.9"
  }
 },
 "nbformat": 4,
 "nbformat_minor": 5
}
